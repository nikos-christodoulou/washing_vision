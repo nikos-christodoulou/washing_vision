{
 "cells": [
  {
   "cell_type": "code",
   "execution_count": 5,
   "id": "edf3a267",
   "metadata": {
    "scrolled": true
   },
   "outputs": [
    {
     "name": "stdout",
     "output_type": "stream",
     "text": [
      "All packages loaded.\n"
     ]
    }
   ],
   "source": [
    "import pandas as pd\n",
    "\n",
    "from sklearn.model_selection import train_test_split\n",
    "from sklearn.metrics import classification_report\n",
    "import matplotlib.pyplot as plt\n",
    "import numpy as np\n",
    "\n",
    "\n",
    "from tensorflow.keras.applications import (DenseNet201, InceptionV3, MobileNetV2,\n",
    "                                           ResNet101, Xception, EfficientNetB7,\n",
    "                                           VGG19, NASNetLarge)\n",
    "from tensorflow.keras.applications import (densenet, inception_v3, mobilenet_v2, \n",
    "                                           resnet, xception, efficientnet, \n",
    "                                           vgg19, nasnet)\n",
    "from tensorflow.keras.callbacks import (ModelCheckpoint, TensorBoard, EarlyStopping, \n",
    "                                        LearningRateScheduler)\n",
    "\n",
    "from tensorflow.keras.layers import Dense, GlobalAveragePooling2D\n",
    "from tensorflow.keras.preprocessing.image import img_to_array\n",
    "from tensorflow.keras.preprocessing.image import load_img\n",
    "from tensorflow.keras.optimizers import SGD, Adam\n",
    "from tensorflow.keras.preprocessing import image\n",
    "from tensorflow.keras import Sequential,Model\n",
    "from tensorflow.keras import backend as K\n",
    "import tf_explain as tfe\n",
    "import tensorflow as tf\n",
    "\n",
    "print(\"All packages loaded.\")\n"
   ]
  },
  {
   "cell_type": "code",
   "execution_count": 8,
   "id": "806d3170",
   "metadata": {},
   "outputs": [
    {
     "name": "stdout",
     "output_type": "stream",
     "text": [
      "{'black': 0, 'blue': 1, 'brown': 2, 'green': 3, 'grey': 4, 'orange': 5, 'pink': 6, 'purple': 7, 'red': 8, 'silver': 9, 'white': 10, 'yellow': 11}\n"
     ]
    }
   ],
   "source": [
    "#Show dataset labels sorted.\n",
    "\n",
    "from os import listdir\n",
    "from natsort import natsorted\n",
    "\n",
    "paths = listdir('C:/Users/Nicko/Desktop/HCI/data')\n",
    "labels = {path : x for x, path in enumerate(natsorted(paths))}\n",
    "print(labels)"
   ]
  },
  {
   "cell_type": "code",
   "execution_count": null,
   "id": "175ce304",
   "metadata": {},
   "outputs": [],
   "source": [
    "# Preprocessing\n",
    "# Resize images to 224 x 224.\n",
    "\n",
    "# We also need to normalize the data.\n",
    "\n",
    "# Split dataset in train, validation, test\n"
   ]
  },
  {
   "cell_type": "code",
   "execution_count": null,
   "id": "b0892206",
   "metadata": {},
   "outputs": [],
   "source": [
    "# Here we will construct our CNN Model.\n",
    "# We will add Max Pooling layers and Drop Out Layers with Batch Normalization."
   ]
  },
  {
   "cell_type": "code",
   "execution_count": null,
   "id": "6f929791",
   "metadata": {},
   "outputs": [],
   "source": [
    "#Chatgtp code\n",
    "\n",
    "# Define the base model\n",
    "base_model = MobileNetV2(include_top=False, weights='imagenet', input_shape=(224, 224, 3))\n",
    "base_model.trainable = False\n",
    "\n",
    "# Define your own classification head\n",
    "model = tf.keras.Sequential([\n",
    "    base_model,\n",
    "    tf.keras.layers.GlobalAveragePooling2D(),\n",
    "    tf.keras.layers.Dense(128, activation='relu'),\n",
    "    tf.keras.layers.Dense(num_classes, activation='softmax')  # num_classes is the number of categories/classes\n",
    "])\n",
    "\n",
    "# Compile the model\n",
    "model.compile(optimizer='adam', loss='categorical_crossentropy', metrics=['accuracy'])\n",
    "\n",
    "# Data augmentation and preprocessing\n",
    "train_datagen = ImageDataGenerator(rescale=1./255, rotation_range=20, ...)\n",
    "validation_datagen = ImageDataGenerator(rescale=1./255)\n",
    "\n",
    "train_generator = train_datagen.flow_from_directory(\n",
    "    train_dir,\n",
    "    target_size=(224, 224),\n",
    "    batch_size=batch_size,\n",
    "    class_mode='categorical')\n",
    "\n",
    "validation_generator = validation_datagen.flow_from_directory(\n",
    "    validation_dir,\n",
    "    target_size=(224, 224),\n",
    "    batch_size=batch_size,\n",
    "    class_mode='categorical')\n",
    "\n",
    "# Train the model\n",
    "model.fit(\n",
    "    train_generator,\n",
    "    steps_per_epoch=train_generator.samples // batch_size,\n",
    "    epochs=num_epochs,\n",
    "    validation_data=validation_generator,\n",
    "    validation_steps=validation_generator.samples // batch_size)\n",
    "\n",
    "# Save the trained model\n",
    "model.save('colored_clothes_model.h5')\n",
    "\n",
    "\n",
    "#Convert model in Js.\n",
    "tfjs.converters.save_keras_model(model, 'tfjs_model')"
   ]
  }
 ],
 "metadata": {
  "kernelspec": {
   "display_name": "Python 3 (ipykernel)",
   "language": "python",
   "name": "python3"
  },
  "language_info": {
   "codemirror_mode": {
    "name": "ipython",
    "version": 3
   },
   "file_extension": ".py",
   "mimetype": "text/x-python",
   "name": "python",
   "nbconvert_exporter": "python",
   "pygments_lexer": "ipython3",
   "version": "3.9.7"
  }
 },
 "nbformat": 4,
 "nbformat_minor": 5
}
